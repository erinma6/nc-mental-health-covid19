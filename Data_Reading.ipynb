{
 "cells": [
  {
   "cell_type": "markdown",
   "metadata": {},
   "source": [
    "## Carolina Across 100 Hackathon"
   ]
  },
  {
   "cell_type": "markdown",
   "metadata": {},
   "source": [
    "#### Importing the dataset."
   ]
  },
  {
   "cell_type": "code",
   "execution_count": 2,
   "metadata": {},
   "outputs": [],
   "source": [
    "DATA_DIRECTORY=\"../../data\"\n",
    "DATA_FILE_PATH=f\"{DATA_DIRECTORY}/vital-statistics-and-health-linc.csv\"\n",
    "\n",
    "import pandas as pd\n",
    "import numpy as np\n",
    "import matplotlib.pyplot as plt\n"
   ]
  },
  {
   "cell_type": "code",
   "execution_count": 3,
   "metadata": {},
   "outputs": [
    {
     "data": {
      "text/html": [
       "<div>\n",
       "<style scoped>\n",
       "    .dataframe tbody tr th:only-of-type {\n",
       "        vertical-align: middle;\n",
       "    }\n",
       "\n",
       "    .dataframe tbody tr th {\n",
       "        vertical-align: top;\n",
       "    }\n",
       "\n",
       "    .dataframe thead th {\n",
       "        text-align: right;\n",
       "    }\n",
       "</style>\n",
       "<table border=\"1\" class=\"dataframe\">\n",
       "  <thead>\n",
       "    <tr style=\"text-align: right;\">\n",
       "      <th></th>\n",
       "      <th>Area Name</th>\n",
       "      <th>Area Type</th>\n",
       "      <th>Year</th>\n",
       "      <th>Variable</th>\n",
       "      <th>Value</th>\n",
       "    </tr>\n",
       "  </thead>\n",
       "  <tbody>\n",
       "    <tr>\n",
       "      <th>105009</th>\n",
       "      <td>Madison County</td>\n",
       "      <td>County</td>\n",
       "      <td>2022</td>\n",
       "      <td>Beds in General Hospitals</td>\n",
       "      <td>0</td>\n",
       "    </tr>\n",
       "    <tr>\n",
       "      <th>105010</th>\n",
       "      <td>Martin County</td>\n",
       "      <td>County</td>\n",
       "      <td>2022</td>\n",
       "      <td>Beds in General Hospitals</td>\n",
       "      <td>49</td>\n",
       "    </tr>\n",
       "    <tr>\n",
       "      <th>105011</th>\n",
       "      <td>Nash County</td>\n",
       "      <td>County</td>\n",
       "      <td>2022</td>\n",
       "      <td>Beds in General Hospitals</td>\n",
       "      <td>312</td>\n",
       "    </tr>\n",
       "    <tr>\n",
       "      <th>105012</th>\n",
       "      <td>Scotland County</td>\n",
       "      <td>County</td>\n",
       "      <td>2022</td>\n",
       "      <td>Beds in General Hospitals</td>\n",
       "      <td>97</td>\n",
       "    </tr>\n",
       "    <tr>\n",
       "      <th>105013</th>\n",
       "      <td>Wilkes County</td>\n",
       "      <td>County</td>\n",
       "      <td>2022</td>\n",
       "      <td>Beds in General Hospitals</td>\n",
       "      <td>120</td>\n",
       "    </tr>\n",
       "  </tbody>\n",
       "</table>\n",
       "</div>"
      ],
      "text/plain": [
       "              Area Name Area Type  Year                   Variable  Value\n",
       "105009   Madison County    County  2022  Beds in General Hospitals      0\n",
       "105010    Martin County    County  2022  Beds in General Hospitals     49\n",
       "105011      Nash County    County  2022  Beds in General Hospitals    312\n",
       "105012  Scotland County    County  2022  Beds in General Hospitals     97\n",
       "105013    Wilkes County    County  2022  Beds in General Hospitals    120"
      ]
     },
     "execution_count": 3,
     "metadata": {},
     "output_type": "execute_result"
    }
   ],
   "source": [
    "csv_reader = pd.read_csv(DATA_FILE_PATH, encoding='utf8')\n",
    "df = pd.DataFrame(csv_reader)\n",
    "df.tail()"
   ]
  },
  {
   "cell_type": "code",
   "execution_count": 4,
   "metadata": {},
   "outputs": [
    {
     "data": {
      "text/plain": [
       "array(['Marriages', 'Low-Weight Births Under 2500 Grams',\n",
       "       'Persons Served in State Mental Hlth Development Centers',\n",
       "       'Pregnancies for Females of All Ages',\n",
       "       'Pregnancies for Females 15-19', 'Reported Abortions',\n",
       "       'Persons Served in Area Mental Health Programs',\n",
       "       'Persons Served in State Psychiatric Hospitals',\n",
       "       'Nursing Facility Beds', 'Blind and Visually Impaired Persons',\n",
       "       'General Hospital Discharges', 'Infant Deaths',\n",
       "       'Nongeriatric Deaths', 'Deaths by Injury or Violence',\n",
       "       'Resident Deaths',\n",
       "       'Persons Served in NC Alcohol and Drug Treatment Centers',\n",
       "       'Divorces', 'Beds in General Hospitals', 'Resident Live Births',\n",
       "       'Registered Nurses', 'Midlevel Practitioners', 'Active Dentists',\n",
       "       'Active Primary Care Physicians',\n",
       "       'Total Active Physicians, Nonfederal, Non-resident-in-tr',\n",
       "       'Persons Age 16-64 with Work Disability',\n",
       "       'Persons with Transportation Disability'], dtype=object)"
      ]
     },
     "execution_count": 4,
     "metadata": {},
     "output_type": "execute_result"
    }
   ],
   "source": [
    "csv_reader.Variable.unique()"
   ]
  },
  {
   "cell_type": "code",
   "execution_count": 5,
   "metadata": {},
   "outputs": [],
   "source": [
    "mental_health: list[str] = [\n",
    "    'Persons Served in State Mental Hlth Development Centers',\n",
    "    'Persons Served in Area Mental Health Programs',\n",
    "    'Persons Served in State Psychiatric Hospitals',\n",
    "    'Persons Served in NC Alcohol and Drug Treatment Centers',\n",
    "]\n",
    "\n",
    "df_state_mental_health = df.loc[df['Variable'] == 'Persons Served in State Mental Hlth Development Centers'].sort_values('Year')\n",
    "df_area_mental_health = df.loc[df['Variable'] == 'Persons Served in Area Mental Health Programs'].sort_values('Year')\n",
    "df_state_psy_hospitals = df.loc[df['Variable'] == 'Persons Served in State Psychiatric Hospitals'].sort_values('Year')"
   ]
  },
  {
   "cell_type": "code",
   "execution_count": 6,
   "metadata": {},
   "outputs": [],
   "source": [
    "df2 = pd.DataFrame()\n",
    "Years = []\n",
    "state_mental_health = []\n",
    "area_mental_health = []\n",
    "psy_hospitals = []\n",
    "\n",
    "for year in range(1980, 2017):\n",
    "    Years.append(year)\n",
    "    state_mental_health.append(df_state_mental_health.loc[df['Year'] == year, 'Value'].sum())\n",
    "\n",
    "for year in range(1980, 2017):\n",
    "    area_mental_health.append(df_area_mental_health.loc[df['Year'] == year, 'Value'].sum())\n",
    "\n",
    "for year in range(1980, 2017):\n",
    "    psy_hospitals.append(df_state_psy_hospitals.loc[df['Year'] == year, 'Value'].sum())\n",
    "\n",
    "df2['Year'] = Years\n",
    "df2['Persons Serving in State Mental Health Development Centers'] = state_mental_health\n",
    "df2['Persons Serving in Area Mental Health Programs'] = area_mental_health\n",
    "df2['Persons Served in State Psychiatric Hospitals'] = psy_hospitals"
   ]
  },
  {
   "cell_type": "markdown",
   "metadata": {},
   "source": [
    "Therefore, over the span of the last 30 years, we notice a general downward trend in the number of persons serving in State Mental Health Development Centers across North Carolina which could have led to us being ill-equipped to combat the rampant mental illnesses because of COVID-19."
   ]
  },
  {
   "cell_type": "code",
   "execution_count": 16,
   "metadata": {},
   "outputs": [
    {
     "data": {
      "text/plain": [
       "Text(0, 0.5, 'Persons Served in State Mental Health Centers')"
      ]
     },
     "execution_count": 16,
     "metadata": {},
     "output_type": "execute_result"
    },
    {
     "data": {
      "image/png": "[encoded data removed]",
      "text/plain": [
       "<Figure size 432x288 with 1 Axes>"
      ]
     },
     "metadata": {
      "needs_background": "light"
     },
     "output_type": "display_data"
    }
   ],
   "source": [
    "plt.plot(df2['Year'], df2['Persons Serving in State Mental Health Development Centers'], label = \"line 1\")\n",
    "plt.xlabel('Y ear')\n",
    "plt.ylabel('Persons Served in State Mental Health Centers')"
   ]
  },
  {
   "cell_type": "code",
   "execution_count": 8,
   "metadata": {},
   "outputs": [
    {
     "data": {
      "text/plain": [
       "[<matplotlib.lines.Line2D at 0x1233d7e50>]"
      ]
     },
     "execution_count": 8,
     "metadata": {},
     "output_type": "execute_result"
    },
    {
     "data": {
      "image/png": "[encoded data removed]",
      "text/plain": [
       "<Figure size 432x288 with 1 Axes>"
      ]
     },
     "metadata": {
      "needs_background": "light"
     },
     "output_type": "display_data"
    }
   ],
   "source": [
    "plt.plot(df2['Year'], df2['Persons Serving in Area Mental Health Programs'], label = \"line 2\")"
   ]
  },
  {
   "cell_type": "code",
   "execution_count": 14,
   "metadata": {},
   "outputs": [
    {
     "data": {
      "text/plain": [
       "Text(0, 0.5, 'People Served in State Psychiatric Hospitals')"
      ]
     },
     "execution_count": 14,
     "metadata": {},
     "output_type": "execute_result"
    },
    {
     "data": {
      "image/png": "[encoded data removed]",
      "text/plain": [
       "<Figure size 432x288 with 1 Axes>"
      ]
     },
     "metadata": {
      "needs_background": "light"
     },
     "output_type": "display_data"
    }
   ],
   "source": [
    "plt.plot(df2['Year'], df2['Persons Served in State Psychiatric Hospitals'], label = \"line 3\")\n",
    "plt.xlabel(\"Year\")\n",
    "plt.ylabel(\"People Served in State Psychiatric Hospitals\")"
   ]
  },
  {
   "cell_type": "code",
   "execution_count": 10,
   "metadata": {},
   "outputs": [
    {
     "data": {
      "text/html": [
       "<div>\n",
       "<style scoped>\n",
       "    .dataframe tbody tr th:only-of-type {\n",
       "        vertical-align: middle;\n",
       "    }\n",
       "\n",
       "    .dataframe tbody tr th {\n",
       "        vertical-align: top;\n",
       "    }\n",
       "\n",
       "    .dataframe thead th {\n",
       "        text-align: right;\n",
       "    }\n",
       "</style>\n",
       "<table border=\"1\" class=\"dataframe\">\n",
       "  <thead>\n",
       "    <tr style=\"text-align: right;\">\n",
       "      <th></th>\n",
       "      <th>Area Name</th>\n",
       "      <th>Area Type</th>\n",
       "      <th>Year</th>\n",
       "      <th>Variable</th>\n",
       "      <th>Value</th>\n",
       "    </tr>\n",
       "  </thead>\n",
       "  <tbody>\n",
       "    <tr>\n",
       "      <th>61661</th>\n",
       "      <td>Orange County</td>\n",
       "      <td>County</td>\n",
       "      <td>1980</td>\n",
       "      <td>Persons Served in Area Mental Health Programs</td>\n",
       "      <td>1366</td>\n",
       "    </tr>\n",
       "    <tr>\n",
       "      <th>61894</th>\n",
       "      <td>Pitt County</td>\n",
       "      <td>County</td>\n",
       "      <td>1980</td>\n",
       "      <td>Persons Served in Area Mental Health Programs</td>\n",
       "      <td>2695</td>\n",
       "    </tr>\n",
       "    <tr>\n",
       "      <th>98697</th>\n",
       "      <td>Catawba County</td>\n",
       "      <td>County</td>\n",
       "      <td>1980</td>\n",
       "      <td>Persons Served in Area Mental Health Programs</td>\n",
       "      <td>2907</td>\n",
       "    </tr>\n",
       "    <tr>\n",
       "      <th>8951</th>\n",
       "      <td>Gates County</td>\n",
       "      <td>County</td>\n",
       "      <td>1980</td>\n",
       "      <td>Persons Served in Area Mental Health Programs</td>\n",
       "      <td>306</td>\n",
       "    </tr>\n",
       "    <tr>\n",
       "      <th>9049</th>\n",
       "      <td>Halifax County</td>\n",
       "      <td>County</td>\n",
       "      <td>1980</td>\n",
       "      <td>Persons Served in Area Mental Health Programs</td>\n",
       "      <td>1554</td>\n",
       "    </tr>\n",
       "    <tr>\n",
       "      <th>...</th>\n",
       "      <td>...</td>\n",
       "      <td>...</td>\n",
       "      <td>...</td>\n",
       "      <td>...</td>\n",
       "      <td>...</td>\n",
       "    </tr>\n",
       "    <tr>\n",
       "      <th>85833</th>\n",
       "      <td>Stanly County</td>\n",
       "      <td>County</td>\n",
       "      <td>2020</td>\n",
       "      <td>Persons Served in Area Mental Health Programs</td>\n",
       "      <td>2011</td>\n",
       "    </tr>\n",
       "    <tr>\n",
       "      <th>85834</th>\n",
       "      <td>Swain County</td>\n",
       "      <td>County</td>\n",
       "      <td>2020</td>\n",
       "      <td>Persons Served in Area Mental Health Programs</td>\n",
       "      <td>835</td>\n",
       "    </tr>\n",
       "    <tr>\n",
       "      <th>85835</th>\n",
       "      <td>Tyrrell County</td>\n",
       "      <td>County</td>\n",
       "      <td>2020</td>\n",
       "      <td>Persons Served in Area Mental Health Programs</td>\n",
       "      <td>116</td>\n",
       "    </tr>\n",
       "    <tr>\n",
       "      <th>85829</th>\n",
       "      <td>Hertford County</td>\n",
       "      <td>County</td>\n",
       "      <td>2020</td>\n",
       "      <td>Persons Served in Area Mental Health Programs</td>\n",
       "      <td>742</td>\n",
       "    </tr>\n",
       "    <tr>\n",
       "      <th>104417</th>\n",
       "      <td>Yadkin County</td>\n",
       "      <td>County</td>\n",
       "      <td>2020</td>\n",
       "      <td>Persons Served in Area Mental Health Programs</td>\n",
       "      <td>1622</td>\n",
       "    </tr>\n",
       "  </tbody>\n",
       "</table>\n",
       "<p>4141 rows × 5 columns</p>\n",
       "</div>"
      ],
      "text/plain": [
       "              Area Name Area Type  Year  \\\n",
       "61661     Orange County    County  1980   \n",
       "61894       Pitt County    County  1980   \n",
       "98697    Catawba County    County  1980   \n",
       "8951       Gates County    County  1980   \n",
       "9049     Halifax County    County  1980   \n",
       "...                 ...       ...   ...   \n",
       "85833     Stanly County    County  2020   \n",
       "85834      Swain County    County  2020   \n",
       "85835    Tyrrell County    County  2020   \n",
       "85829   Hertford County    County  2020   \n",
       "104417    Yadkin County    County  2020   \n",
       "\n",
       "                                             Variable  Value  \n",
       "61661   Persons Served in Area Mental Health Programs   1366  \n",
       "61894   Persons Served in Area Mental Health Programs   2695  \n",
       "98697   Persons Served in Area Mental Health Programs   2907  \n",
       "8951    Persons Served in Area Mental Health Programs    306  \n",
       "9049    Persons Served in Area Mental Health Programs   1554  \n",
       "...                                               ...    ...  \n",
       "85833   Persons Served in Area Mental Health Programs   2011  \n",
       "85834   Persons Served in Area Mental Health Programs    835  \n",
       "85835   Persons Served in Area Mental Health Programs    116  \n",
       "85829   Persons Served in Area Mental Health Programs    742  \n",
       "104417  Persons Served in Area Mental Health Programs   1622  \n",
       "\n",
       "[4141 rows x 5 columns]"
      ]
     },
     "execution_count": 10,
     "metadata": {},
     "output_type": "execute_result"
    }
   ],
   "source": [
    "df_area_mental_health"
   ]
  },
  {
   "cell_type": "code",
   "execution_count": 11,
   "metadata": {},
   "outputs": [
    {
     "data": {
      "text/html": [
       "<div>\n",
       "<style scoped>\n",
       "    .dataframe tbody tr th:only-of-type {\n",
       "        vertical-align: middle;\n",
       "    }\n",
       "\n",
       "    .dataframe tbody tr th {\n",
       "        vertical-align: top;\n",
       "    }\n",
       "\n",
       "    .dataframe thead th {\n",
       "        text-align: right;\n",
       "    }\n",
       "</style>\n",
       "<table border=\"1\" class=\"dataframe\">\n",
       "  <thead>\n",
       "    <tr style=\"text-align: right;\">\n",
       "      <th></th>\n",
       "      <th>Area Name</th>\n",
       "      <th>Area Type</th>\n",
       "      <th>Year</th>\n",
       "      <th>Variable</th>\n",
       "      <th>Value</th>\n",
       "    </tr>\n",
       "  </thead>\n",
       "  <tbody>\n",
       "    <tr>\n",
       "      <th>47022</th>\n",
       "      <td>Wake County</td>\n",
       "      <td>County</td>\n",
       "      <td>1980</td>\n",
       "      <td>Persons Served in State Mental Hlth Developmen...</td>\n",
       "      <td>86</td>\n",
       "    </tr>\n",
       "    <tr>\n",
       "      <th>37797</th>\n",
       "      <td>Cherokee County</td>\n",
       "      <td>County</td>\n",
       "      <td>1980</td>\n",
       "      <td>Persons Served in State Mental Hlth Developmen...</td>\n",
       "      <td>8</td>\n",
       "    </tr>\n",
       "    <tr>\n",
       "      <th>37802</th>\n",
       "      <td>Catawba County</td>\n",
       "      <td>County</td>\n",
       "      <td>1980</td>\n",
       "      <td>Persons Served in State Mental Hlth Developmen...</td>\n",
       "      <td>41</td>\n",
       "    </tr>\n",
       "    <tr>\n",
       "      <th>38562</th>\n",
       "      <td>Iredell County</td>\n",
       "      <td>County</td>\n",
       "      <td>1980</td>\n",
       "      <td>Persons Served in State Mental Hlth Developmen...</td>\n",
       "      <td>40</td>\n",
       "    </tr>\n",
       "    <tr>\n",
       "      <th>81255</th>\n",
       "      <td>Lee County</td>\n",
       "      <td>County</td>\n",
       "      <td>1980</td>\n",
       "      <td>Persons Served in State Mental Hlth Developmen...</td>\n",
       "      <td>20</td>\n",
       "    </tr>\n",
       "    <tr>\n",
       "      <th>...</th>\n",
       "      <td>...</td>\n",
       "      <td>...</td>\n",
       "      <td>...</td>\n",
       "      <td>...</td>\n",
       "      <td>...</td>\n",
       "    </tr>\n",
       "    <tr>\n",
       "      <th>3453</th>\n",
       "      <td>Stanly County</td>\n",
       "      <td>County</td>\n",
       "      <td>2016</td>\n",
       "      <td>Persons Served in State Mental Hlth Developmen...</td>\n",
       "      <td>3</td>\n",
       "    </tr>\n",
       "    <tr>\n",
       "      <th>3454</th>\n",
       "      <td>Swain County</td>\n",
       "      <td>County</td>\n",
       "      <td>2016</td>\n",
       "      <td>Persons Served in State Mental Hlth Developmen...</td>\n",
       "      <td>0</td>\n",
       "    </tr>\n",
       "    <tr>\n",
       "      <th>3455</th>\n",
       "      <td>Washington County</td>\n",
       "      <td>County</td>\n",
       "      <td>2016</td>\n",
       "      <td>Persons Served in State Mental Hlth Developmen...</td>\n",
       "      <td>1</td>\n",
       "    </tr>\n",
       "    <tr>\n",
       "      <th>55177</th>\n",
       "      <td>Pitt County</td>\n",
       "      <td>County</td>\n",
       "      <td>2016</td>\n",
       "      <td>Persons Served in State Mental Hlth Developmen...</td>\n",
       "      <td>30</td>\n",
       "    </tr>\n",
       "    <tr>\n",
       "      <th>89189</th>\n",
       "      <td>Scotland County</td>\n",
       "      <td>County</td>\n",
       "      <td>2016</td>\n",
       "      <td>Persons Served in State Mental Hlth Developmen...</td>\n",
       "      <td>4</td>\n",
       "    </tr>\n",
       "  </tbody>\n",
       "</table>\n",
       "<p>3737 rows × 5 columns</p>\n",
       "</div>"
      ],
      "text/plain": [
       "               Area Name Area Type  Year  \\\n",
       "47022        Wake County    County  1980   \n",
       "37797    Cherokee County    County  1980   \n",
       "37802     Catawba County    County  1980   \n",
       "38562     Iredell County    County  1980   \n",
       "81255         Lee County    County  1980   \n",
       "...                  ...       ...   ...   \n",
       "3453       Stanly County    County  2016   \n",
       "3454        Swain County    County  2016   \n",
       "3455   Washington County    County  2016   \n",
       "55177        Pitt County    County  2016   \n",
       "89189    Scotland County    County  2016   \n",
       "\n",
       "                                                Variable  Value  \n",
       "47022  Persons Served in State Mental Hlth Developmen...     86  \n",
       "37797  Persons Served in State Mental Hlth Developmen...      8  \n",
       "37802  Persons Served in State Mental Hlth Developmen...     41  \n",
       "38562  Persons Served in State Mental Hlth Developmen...     40  \n",
       "81255  Persons Served in State Mental Hlth Developmen...     20  \n",
       "...                                                  ...    ...  \n",
       "3453   Persons Served in State Mental Hlth Developmen...      3  \n",
       "3454   Persons Served in State Mental Hlth Developmen...      0  \n",
       "3455   Persons Served in State Mental Hlth Developmen...      1  \n",
       "55177  Persons Served in State Mental Hlth Developmen...     30  \n",
       "89189  Persons Served in State Mental Hlth Developmen...      4  \n",
       "\n",
       "[3737 rows x 5 columns]"
      ]
     },
     "execution_count": 11,
     "metadata": {},
     "output_type": "execute_result"
    }
   ],
   "source": [
    "df_state_mental_health"
   ]
  },
  {
   "cell_type": "code",
   "execution_count": 12,
   "metadata": {},
   "outputs": [
    {
     "data": {
      "text/html": [
       "<div>\n",
       "<style scoped>\n",
       "    .dataframe tbody tr th:only-of-type {\n",
       "        vertical-align: middle;\n",
       "    }\n",
       "\n",
       "    .dataframe tbody tr th {\n",
       "        vertical-align: top;\n",
       "    }\n",
       "\n",
       "    .dataframe thead th {\n",
       "        text-align: right;\n",
       "    }\n",
       "</style>\n",
       "<table border=\"1\" class=\"dataframe\">\n",
       "  <thead>\n",
       "    <tr style=\"text-align: right;\">\n",
       "      <th></th>\n",
       "      <th>Area Name</th>\n",
       "      <th>Area Type</th>\n",
       "      <th>Year</th>\n",
       "      <th>Variable</th>\n",
       "      <th>Value</th>\n",
       "    </tr>\n",
       "  </thead>\n",
       "  <tbody>\n",
       "    <tr>\n",
       "      <th>78999</th>\n",
       "      <td>North Carolina</td>\n",
       "      <td>State of NC</td>\n",
       "      <td>1980</td>\n",
       "      <td>Persons Served in State Psychiatric Hospitals</td>\n",
       "      <td>18114</td>\n",
       "    </tr>\n",
       "    <tr>\n",
       "      <th>25187</th>\n",
       "      <td>Caldwell County</td>\n",
       "      <td>County</td>\n",
       "      <td>1980</td>\n",
       "      <td>Persons Served in State Psychiatric Hospitals</td>\n",
       "      <td>255</td>\n",
       "    </tr>\n",
       "    <tr>\n",
       "      <th>74697</th>\n",
       "      <td>Scotland County</td>\n",
       "      <td>County</td>\n",
       "      <td>1980</td>\n",
       "      <td>Persons Served in State Psychiatric Hospitals</td>\n",
       "      <td>16</td>\n",
       "    </tr>\n",
       "    <tr>\n",
       "      <th>22308</th>\n",
       "      <td>Iredell County</td>\n",
       "      <td>County</td>\n",
       "      <td>1980</td>\n",
       "      <td>Persons Served in State Psychiatric Hospitals</td>\n",
       "      <td>341</td>\n",
       "    </tr>\n",
       "    <tr>\n",
       "      <th>25463</th>\n",
       "      <td>Carteret County</td>\n",
       "      <td>County</td>\n",
       "      <td>1980</td>\n",
       "      <td>Persons Served in State Psychiatric Hospitals</td>\n",
       "      <td>133</td>\n",
       "    </tr>\n",
       "    <tr>\n",
       "      <th>...</th>\n",
       "      <td>...</td>\n",
       "      <td>...</td>\n",
       "      <td>...</td>\n",
       "      <td>...</td>\n",
       "      <td>...</td>\n",
       "    </tr>\n",
       "    <tr>\n",
       "      <th>63223</th>\n",
       "      <td>Surry County</td>\n",
       "      <td>County</td>\n",
       "      <td>2017</td>\n",
       "      <td>Persons Served in State Psychiatric Hospitals</td>\n",
       "      <td>11</td>\n",
       "    </tr>\n",
       "    <tr>\n",
       "      <th>45585</th>\n",
       "      <td>Cumberland County</td>\n",
       "      <td>County</td>\n",
       "      <td>2017</td>\n",
       "      <td>Persons Served in State Psychiatric Hospitals</td>\n",
       "      <td>149</td>\n",
       "    </tr>\n",
       "    <tr>\n",
       "      <th>45584</th>\n",
       "      <td>Craven County</td>\n",
       "      <td>County</td>\n",
       "      <td>2017</td>\n",
       "      <td>Persons Served in State Psychiatric Hospitals</td>\n",
       "      <td>17</td>\n",
       "    </tr>\n",
       "    <tr>\n",
       "      <th>45587</th>\n",
       "      <td>Granville County</td>\n",
       "      <td>County</td>\n",
       "      <td>2017</td>\n",
       "      <td>Persons Served in State Psychiatric Hospitals</td>\n",
       "      <td>44</td>\n",
       "    </tr>\n",
       "    <tr>\n",
       "      <th>45582</th>\n",
       "      <td>Carteret County</td>\n",
       "      <td>County</td>\n",
       "      <td>2017</td>\n",
       "      <td>Persons Served in State Psychiatric Hospitals</td>\n",
       "      <td>7</td>\n",
       "    </tr>\n",
       "  </tbody>\n",
       "</table>\n",
       "<p>3838 rows × 5 columns</p>\n",
       "</div>"
      ],
      "text/plain": [
       "               Area Name    Area Type  Year  \\\n",
       "78999     North Carolina  State of NC  1980   \n",
       "25187    Caldwell County       County  1980   \n",
       "74697    Scotland County       County  1980   \n",
       "22308     Iredell County       County  1980   \n",
       "25463    Carteret County       County  1980   \n",
       "...                  ...          ...   ...   \n",
       "63223       Surry County       County  2017   \n",
       "45585  Cumberland County       County  2017   \n",
       "45584      Craven County       County  2017   \n",
       "45587   Granville County       County  2017   \n",
       "45582    Carteret County       County  2017   \n",
       "\n",
       "                                            Variable  Value  \n",
       "78999  Persons Served in State Psychiatric Hospitals  18114  \n",
       "25187  Persons Served in State Psychiatric Hospitals    255  \n",
       "74697  Persons Served in State Psychiatric Hospitals     16  \n",
       "22308  Persons Served in State Psychiatric Hospitals    341  \n",
       "25463  Persons Served in State Psychiatric Hospitals    133  \n",
       "...                                              ...    ...  \n",
       "63223  Persons Served in State Psychiatric Hospitals     11  \n",
       "45585  Persons Served in State Psychiatric Hospitals    149  \n",
       "45584  Persons Served in State Psychiatric Hospitals     17  \n",
       "45587  Persons Served in State Psychiatric Hospitals     44  \n",
       "45582  Persons Served in State Psychiatric Hospitals      7  \n",
       "\n",
       "[3838 rows x 5 columns]"
      ]
     },
     "execution_count": 12,
     "metadata": {},
     "output_type": "execute_result"
    }
   ],
   "source": [
    "df_state_psy_hospitals"
   ]
  },
  {
   "cell_type": "markdown",
   "metadata": {},
   "source": [
    "## CONCLUSION:\n",
    "\n",
    "NOT ADEQUATELY PREPARED TO COMBAT THE MENTAL HEALTH WAVE THAT WAS BROUGHT ABOUT BY THE COVID-19 PANDEMIC.\n",
    "\n",
    "### How to be better prepared for next time?\n",
    "\n",
    "Invest in mental health resources and facilities. State should improve resources spent in the field to be better equipped to help the people who need it the most.\n",
    "\n",
    "Also possibly include a pie chart that includes the percentage of funding for mental health v/s all healthcare funding in North Carolina. Might be interesting..."
   ]
  }
 ],
 "metadata": {
  "interpreter": {
   "hash": "aee8b7b246df8f9039afb4144a1f6fd8d2ca17a180786b69acc140d282b71a49"
  },
  "kernelspec": {
   "display_name": "Python 3.10.1 64-bit",
   "language": "python",
   "name": "python3"
  },
  "language_info": {
   "codemirror_mode": {
    "name": "ipython",
    "version": 3
   },
   "file_extension": ".py",
   "mimetype": "text/x-python",
   "name": "python",
   "nbconvert_exporter": "python",
   "pygments_lexer": "ipython3",
   "version": "3.10.1"
  },
  "orig_nbformat": 4
 },
 "nbformat": 4,
 "nbformat_minor": 2
}
